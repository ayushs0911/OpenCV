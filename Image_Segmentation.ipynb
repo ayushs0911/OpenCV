{
  "nbformat": 4,
  "nbformat_minor": 0,
  "metadata": {
    "colab": {
      "provenance": [],
      "authorship_tag": "ABX9TyOrzN/If+dv9LTmofED6O9H",
      "include_colab_link": true
    },
    "kernelspec": {
      "name": "python3",
      "display_name": "Python 3"
    },
    "language_info": {
      "name": "python"
    }
  },
  "cells": [
    {
      "cell_type": "markdown",
      "metadata": {
        "id": "view-in-github",
        "colab_type": "text"
      },
      "source": [
        "<a href=\"https://colab.research.google.com/github/ayushs0911/OpenCV/blob/main/Image_Segmentation.ipynb\" target=\"_parent\"><img src=\"https://colab.research.google.com/assets/colab-badge.svg\" alt=\"Open In Colab\"/></a>"
      ]
    },
    {
      "cell_type": "code",
      "execution_count": null,
      "metadata": {
        "id": "dJe6SotIUv9X"
      },
      "outputs": [],
      "source": [
        "import cv2 \n",
        "import numpy as np \n",
        "from matplotlib import pyplot as plt \n",
        "\n",
        "def imshow(title = \"Image\", image = None, size =10):\n",
        "  w, h = image.shape[0], image.shape[1]\n",
        "  aspect_ratio = w/h\n",
        "  plt.figure(figsize = (size*aspect_ratio, size))\n",
        "  plt.imshow(cv2.cvtColor(image, cv2.COLOR_BGR2RGB))\n",
        "  plt.title(title)\n",
        "  plt.show()"
      ]
    },
    {
      "cell_type": "code",
      "source": [
        "!wget https://moderncomputervision.s3.eu-west-2.amazonaws.com/images.zip\n",
        "!unzip -qq images.zip"
      ],
      "metadata": {
        "id": "plCbT0LzXGUb"
      },
      "execution_count": null,
      "outputs": []
    },
    {
      "cell_type": "markdown",
      "source": [
        "#Contours \n",
        "These are the continous lines or curves that bound or cover the full boundary of an object. "
      ],
      "metadata": {
        "id": "mkmCYA9tXLKT"
      }
    },
    {
      "cell_type": "code",
      "source": [
        "image = cv2.imread(\"/content/images/LP.jpg\")\n",
        "imshow(\"Input\", image)"
      ],
      "metadata": {
        "id": "OB1fOQcGXJKF"
      },
      "execution_count": null,
      "outputs": []
    },
    {
      "cell_type": "markdown",
      "source": [
        "## Applying `cv2.findContours()`"
      ],
      "metadata": {
        "id": "HRXIzkXJX1nh"
      }
    },
    {
      "cell_type": "markdown",
      "source": [
        "```cv2.findContours(image, Retrieval Mode, Approximation Method)```\n",
        "\n",
        "**Retrieval Modes**\n",
        "- **RETR_LIST** - Retrieves all the contours, but doesn't create any parent-child relationship. Parents and kids are equal under this rule, and they are just contours. ie they all belongs to same hierarchy level.\n",
        "- **RETR_EXTERNAL** - returns only extreme outer flags. All child contours are left behind.\n",
        "- **RETR_CCOMP** - This flag retrieves all the contours and arranges them to a 2-level hierarchy. ie external contours of the object (ie its boundary) are placed in hierarchy-1. And the contours of holes inside object (if any) is placed in hierarchy-2. If any object inside it, its contour is placed again in hierarchy-1 only. And its hole in hierarchy-2 and so on.\n",
        "- **RETR_TREE** -  It retrieves all the contours and creates a full family hierarchy list. \n",
        "\n",
        "**Approximation Method Options**\n",
        "- cv2.CHAIN_APPROX_NONE – Stores all the points along the line(inefficient!)\n",
        "- cv2.CHAIN_APPROX_SIMPLE – Stores the end points of each line\n"
      ],
      "metadata": {
        "id": "ZHsGk9_TX_ba"
      }
    },
    {
      "cell_type": "code",
      "source": [
        "#covert to grayscale \n",
        "gray = cv2.cvtColor(image, cv2.COLOR_BGR2GRAY)\n",
        "_, th2 = cv2.threshold(gray, 0, 255, cv2.THRESH_BINARY + cv2.THRESH_OTSU)\n",
        "imshow(\"After thresholding\", th2)\n",
        "\n",
        "contours, hierarchy = cv2.findContours(th2, cv2.RETR_LIST, cv2.CHAIN_APPROX_NONE)\n",
        "\n",
        "#draw all contours -> this overides the input image (inplace operation)\n",
        "# Use '-1' as the 3rd parameter to draw all\n",
        "cv2.drawContours(image, contours, -1, (0,255,0), thickness = 2)\n",
        "imshow('Contours overlaid on original image', image)\n",
        "\n",
        "print(\"Number of Contours found = \" + str(len(contours)))\n"
      ],
      "metadata": {
        "id": "0OSFPG3-XmtC"
      },
      "execution_count": null,
      "outputs": []
    },
    {
      "cell_type": "code",
      "source": [
        "# contours[0]"
      ],
      "metadata": {
        "id": "SBW6ZlrTZ6gs"
      },
      "execution_count": null,
      "outputs": []
    },
    {
      "cell_type": "markdown",
      "source": [
        "#### what if we don't apply threshold?"
      ],
      "metadata": {
        "id": "bUuJoMsqaKta"
      }
    },
    {
      "cell_type": "code",
      "source": [
        "image = cv2.imread('/content/images/LP.jpg')\n",
        "\n",
        "# Convert to Grayscale\n",
        "gray = cv2.cvtColor(image, cv2.COLOR_BGR2GRAY)\n",
        "imshow('After Grayscaling', gray)\n",
        "\n",
        "# Finding Contours\n",
        "contours, hierarchy = cv2.findContours(gray, cv2.RETR_LIST, cv2.CHAIN_APPROX_NONE)\n",
        "\n",
        "# Draw all contours, note this overwrites the input image (inplace operation)\n",
        "# Use '-1' as the 3rd parameter to draw all\n",
        "#cv2.drawContours(image, contours, -1, (0,255,0), thickness = 2)\n",
        "imshow('Contours overlaid on original image', image)\n",
        "\n",
        "print(\"Number of Contours found = \" + str(len(contours)))"
      ],
      "metadata": {
        "id": "xW3Kx9JYaFYY"
      },
      "execution_count": null,
      "outputs": []
    },
    {
      "cell_type": "markdown",
      "source": [
        "**NOTE: For findContours to work, the background has to be black and foreground (i.e. the text or objects)** \n",
        "<br>Otherwise you'll need to invert the image by using **cv2..bitwise_not(input_image)**\n",
        "\n",
        "#### We can use canny edges instead of thresholding"
      ],
      "metadata": {
        "id": "mtNjhoRxafxl"
      }
    },
    {
      "cell_type": "code",
      "source": [
        "image = cv2.imread('/content/images/LP.jpg')\n",
        "\n",
        "# Convert to Grayscale\n",
        "gray = cv2.cvtColor(image, cv2.COLOR_BGR2GRAY)\n",
        "\n",
        "# Canny Edges\n",
        "edged = cv2.Canny(gray, 30, 200)\n",
        "imshow('Canny Edges', edged)\n",
        "\n",
        "# Finding Contours\n",
        "contours, hierarchy = cv2.findContours(edged, cv2.RETR_LIST, cv2.CHAIN_APPROX_NONE)\n",
        "\n",
        "cv2.drawContours(image, contours, -1, (0,255,0), thickness = 2)\n",
        "imshow('Contours overlaid on original image', image)\n",
        "\n",
        "print(\"Number of Contours found = \" + str(len(contours)))\n"
      ],
      "metadata": {
        "id": "BCg1Le-VaZj6"
      },
      "execution_count": null,
      "outputs": []
    },
    {
      "cell_type": "markdown",
      "source": [
        "**Note** : Blurring before Step2 is recommended to remove noisy contours. "
      ],
      "metadata": {
        "id": "OluTVZMYa8P_"
      }
    },
    {
      "cell_type": "markdown",
      "source": [
        "## Retreival Modes \n",
        "Official Doc - https://docs.opencv.org/master/d9/d8b/tutorial_py_contours_hierarchy.html\n",
        "\n",
        "**Hierachry**\n",
        "\n",
        "This array stores 4 values for each contour:\n",
        "- First term is the index of the Next contour\n",
        "- Second term is the index of the Previous contour\n",
        "- Third term is the index of the parent contour\n",
        "- Forth term is the index of the child contour"
      ],
      "metadata": {
        "id": "TXvZsFg6bIA8"
      }
    },
    {
      "cell_type": "markdown",
      "source": [
        "### **RETR_LIST**\n",
        "Retrieves all the contours, but doesn't create any parent-child relationship. Parents and kids are equal under this rule, and they are just contours. ie they all belongs to same hierarchy level."
      ],
      "metadata": {
        "id": "tYKkEglLbTI-"
      }
    },
    {
      "cell_type": "code",
      "source": [
        "image = cv2.imread('/content/images/LP.jpg')\n",
        "\n",
        "# Convert to Grayscale\n",
        "gray = cv2.cvtColor(image, cv2.COLOR_BGR2GRAY)\n",
        "\n",
        "_, th2 = cv2.threshold(gray, 0, 255, cv2.THRESH_BINARY + cv2.THRESH_OTSU)\n",
        "imshow('After thresholding', th2)\n",
        "\n",
        "# Use a copy of your image e.g. edged.copy(), since findContours alters the image\n",
        "contours, hierarchy = cv2.findContours(th2, cv2.RETR_LIST, cv2.CHAIN_APPROX_NONE)\n",
        "\n",
        "# Draw all contours, note this overwrites the input image (inplace operation)\n",
        "# Use '-1' as the 3rd parameter to draw all\n",
        "cv2.drawContours(image, contours, -1, (0,255,0), thickness = 2)\n",
        "imshow('Contours overlaid on original image', image)\n",
        "\n",
        "print(\"Number of Contours found = \" + str(len(contours)))\n",
        "print(hierarchy)"
      ],
      "metadata": {
        "id": "wLYdmwAoatPG"
      },
      "execution_count": null,
      "outputs": []
    },
    {
      "cell_type": "markdown",
      "source": [
        "### **RETR_EXTERNAL**\n",
        "\n",
        "Returns only extreme outer flags. All child contours are left behind."
      ],
      "metadata": {
        "id": "vamCv-xSbmSR"
      }
    },
    {
      "cell_type": "code",
      "source": [
        "image = cv2.imread('/content/images/LP.jpg')\n",
        "\n",
        "# Convert to Grayscale\n",
        "gray = cv2.cvtColor(image, cv2.COLOR_BGR2GRAY)\n",
        "\n",
        "_, th2 = cv2.threshold(gray, 0, 255, cv2.THRESH_BINARY + cv2.THRESH_OTSU)\n",
        "imshow('After thresholding', th2)\n",
        "\n",
        "# Use a copy of your image e.g. edged.copy(), since findContours alters the image\n",
        "contours, hierarchy = cv2.findContours(th2, cv2.RETR_EXTERNAL, cv2.CHAIN_APPROX_NONE)\n",
        "\n",
        "# Draw all contours, note this overwrites the input image (inplace operation)\n",
        "# Use '-1' as the 3rd parameter to draw all\n",
        "cv2.drawContours(image, contours, -1, (0,255,0), thickness = 2)\n",
        "imshow('Contours overlaid on original image', image, size = 10)\n",
        "\n",
        "print(\"Number of Contours found = \" + str(len(contours)))\n",
        "print(hierarchy)"
      ],
      "metadata": {
        "id": "zpPcXugWbf-u"
      },
      "execution_count": null,
      "outputs": []
    },
    {
      "cell_type": "markdown",
      "source": [
        "### **RETR_CCOMP**\n",
        "\n",
        "Retrieves all the contours and arranges them to a 2-level hierarchy. ie external contours of the object (ie its boundary) are placed in hierarchy-1. And the contours of holes inside object (if any) is placed in hierarchy-2. If any object inside it, its contour is placed again in hierarchy-1 only. And its hole in hierarchy-2 and so on."
      ],
      "metadata": {
        "id": "8270-gVSb2Tv"
      }
    },
    {
      "cell_type": "code",
      "source": [
        "image = cv2.imread('/content/images/LP.jpg')\n",
        "\n",
        "# Convert to Grayscale\n",
        "gray = cv2.cvtColor(image, cv2.COLOR_BGR2GRAY)\n",
        "\n",
        "_, th2 = cv2.threshold(gray, 0, 255, cv2.THRESH_BINARY + cv2.THRESH_OTSU)\n",
        "imshow('After thresholding', th2)\n",
        "\n",
        "# Use a copy of your image e.g. edged.copy(), since findContours alters the image\n",
        "contours, hierarchy = cv2.findContours(th2, cv2.RETR_CCOMP, cv2.CHAIN_APPROX_NONE)\n",
        "\n",
        "# Draw all contours, note this overwrites the input image (inplace operation)\n",
        "# Use '-1' as the 3rd parameter to draw all\n",
        "cv2.drawContours(image, contours, -1, (0,255,0), thickness = 2)\n",
        "imshow('Contours overlaid on original image', image)\n",
        "\n",
        "print(\"Number of Contours found = \" + str(len(contours)))\n",
        "print(hierarchy)"
      ],
      "metadata": {
        "id": "-a7OLJjZbpwL"
      },
      "execution_count": null,
      "outputs": []
    },
    {
      "cell_type": "markdown",
      "source": [
        "### **RETR_TREE**\n",
        "It retrieves all the contours and creates a full family hierarchy list."
      ],
      "metadata": {
        "id": "oT8bCleDb4dH"
      }
    },
    {
      "cell_type": "code",
      "source": [
        "image = cv2.imread('/content/images/LP.jpg')\n",
        "\n",
        "# Convert to Grayscale\n",
        "gray = cv2.cvtColor(image, cv2.COLOR_BGR2GRAY)\n",
        "\n",
        "_, th2 = cv2.threshold(gray, 0, 255, cv2.THRESH_BINARY + cv2.THRESH_OTSU)\n",
        "imshow('After thresholding', th2)\n",
        "\n",
        "# Use a copy of your image e.g. edged.copy(), since findContours alters the image\n",
        "contours, hierarchy = cv2.findContours(th2, cv2.RETR_TREE, cv2.CHAIN_APPROX_NONE)\n",
        "\n",
        "# Draw all contours, note this overwrites the input image (inplace operation)\n",
        "# Use '-1' as the 3rd parameter to draw all\n",
        "cv2.drawContours(image, contours, -1, (0,255,0), thickness = 2)\n",
        "imshow('Contours overlaid on original image', image)\n",
        "\n",
        "print(\"Number of Contours found = \" + str(len(contours)))\n",
        "print(hierarchy)"
      ],
      "metadata": {
        "id": "sGIkpoNgb63F"
      },
      "execution_count": null,
      "outputs": []
    },
    {
      "cell_type": "markdown",
      "source": [
        "## **Contouring Modes**\n",
        "\n",
        "#### **CHAIN_APPROX_NONE**"
      ],
      "metadata": {
        "id": "rC1hai42b8l-"
      }
    },
    {
      "cell_type": "code",
      "source": [
        "image = cv2.imread('/content/images/LP.jpg')\n",
        "\n",
        "# Convert to Grayscale\n",
        "gray = cv2.cvtColor(image, cv2.COLOR_BGR2GRAY)\n",
        "\n",
        "_, th2 = cv2.threshold(gray, 0, 255, cv2.THRESH_BINARY + cv2.THRESH_OTSU)\n",
        "imshow('After thresholding', th2)\n",
        "\n",
        "# Use a copy of your image e.g. edged.copy(), since findContours alters the image\n",
        "contours, hierarchy = cv2.findContours(th2, cv2.RETR_TREE, cv2.CHAIN_APPROX_NONE)\n",
        "\n",
        "# Draw all contours, note this overwrites the input image (inplace operation)\n",
        "# Use '-1' as the 3rd parameter to draw all\n",
        "cv2.drawContours(image, contours, -1, (0,255,0), thickness = 2)\n",
        "imshow('Contours overlaid on original image', image)\n",
        "\n",
        "print(\"Number of Contours found = \" + str(len(contours)))\n",
        "for c in contours:\n",
        "  print(len(c))"
      ],
      "metadata": {
        "id": "JroMnEYVb-tT"
      },
      "execution_count": null,
      "outputs": []
    },
    {
      "cell_type": "markdown",
      "source": [
        "\n",
        "#### **CHAIN_APPROX_SIMPLE**"
      ],
      "metadata": {
        "id": "ycxkVQ9vcAJ1"
      }
    },
    {
      "cell_type": "code",
      "source": [
        "image = cv2.imread('/content/images/LP.jpg')\n",
        "\n",
        "# Convert to Grayscale\n",
        "gray = cv2.cvtColor(image, cv2.COLOR_BGR2GRAY)\n",
        "\n",
        "_, th2 = cv2.threshold(gray, 0, 255, cv2.THRESH_BINARY + cv2.THRESH_OTSU)\n",
        "imshow('After thresholding', th2)\n",
        "\n",
        "# Use a copy of your image e.g. edged.copy(), since findContours alters the image\n",
        "contours, hierarchy = cv2.findContours(th2, cv2.RETR_TREE, cv2.CHAIN_APPROX_SIMPLE)\n",
        "\n",
        "# Draw all contours, note this overwrites the input image (inplace operation)\n",
        "# Use '-1' as the 3rd parameter to draw all\n",
        "cv2.drawContours(image, contours, -1, (0,255,0), thickness = 2)\n",
        "imshow('Contours overlaid on original image', image)\n",
        "\n",
        "print(\"Number of Contours found = \" + str(len(contours)))\n",
        "for c in contours:\n",
        "  print(len(c))"
      ],
      "metadata": {
        "id": "JHEV1a6BcB74"
      },
      "execution_count": null,
      "outputs": []
    },
    {
      "cell_type": "markdown",
      "source": [
        "# **Moments, Sorting, Approximating & Matching Contours**"
      ],
      "metadata": {
        "id": "Tgu8_h5wchBN"
      }
    },
    {
      "cell_type": "markdown",
      "source": [
        "**Finding Contours**"
      ],
      "metadata": {
        "id": "FoQa-wt0clxF"
      }
    },
    {
      "cell_type": "code",
      "source": [
        "# Load our image\n",
        "image = cv2.imread('/content/images/bunchofshapes.jpg')\n",
        "imshow('Original Image', image)\n",
        "\n",
        "# Grayscale our image\n",
        "gray = cv2.cvtColor(image,cv2.COLOR_BGR2GRAY)\n",
        "\n",
        "# Find Canny edges\n",
        "edged = cv2.Canny(gray, 50, 200)\n",
        "imshow('Canny Edges', edged)\n",
        "\n",
        "# Find contours and print how many were found\n",
        "contours, hierarchy = cv2.findContours(edged.copy(), cv2.RETR_EXTERNAL, cv2.CHAIN_APPROX_NONE)\n",
        "print(\"Number of contours found = \", len(contours))\n",
        "\n",
        "# Draw all contours over blank image\n",
        "cv2.drawContours(image, contours, -1, (0,255,0), 3)\n",
        "imshow('All Contours', image)"
      ],
      "metadata": {
        "id": "An7IWtE4cMGG"
      },
      "execution_count": null,
      "outputs": []
    },
    {
      "cell_type": "markdown",
      "source": [
        "## **Sorting by Area using cv2.ContourArea and cv2.Moments**\n",
        "\n",
        "![](https://github.com/rajeevratan84/ModernComputerVision/raw/main/moments.png)"
      ],
      "metadata": {
        "id": "1bfhSuX3c-iL"
      }
    },
    {
      "cell_type": "code",
      "source": [
        "# Function we'll use to display contour area\n",
        "\n",
        "def get_contour_areas(contours):\n",
        "    \"\"\"returns the areas of all contours as list\"\"\"\n",
        "    all_areas = []\n",
        "    for cnt in contours:\n",
        "        area = cv2.contourArea(cnt)\n",
        "        all_areas.append(area)\n",
        "    return all_areas\n",
        "\n",
        "# Load our image\n",
        "image = cv2.imread('/content/images/bunchofshapes.jpg')\n",
        "\n",
        "# Let's print the areas of the contours before sorting\n",
        "print(\"Contor Areas before sorting...\")\n",
        "print(get_contour_areas(contours))\n",
        "\n",
        "# Sort contours large to small by area\n",
        "sorted_contours = sorted(contours, key=cv2.contourArea, reverse=True)\n",
        "\n",
        "print(\"Contor Areas after sorting...\") \n",
        "print(get_contour_areas(sorted_contours))\n",
        "\n",
        "# Iterate over our contours and draw one at a time\n",
        "for (i,c) in enumerate(sorted_contours):\n",
        "    M = cv2.moments(c)\n",
        "    cx = int(M['m10'] / M['m00'])\n",
        "    cy = int(M['m01'] / M['m00'])\n",
        "    cv2.putText(image, str(i+1), (cx, cy), cv2.FONT_HERSHEY_SIMPLEX, 2, (0, 255, 0), 3)\n",
        "    cv2.drawContours(image, [c], -1, (255,0,0), 3)\n",
        "\n",
        "imshow('Contours by area', image)"
      ],
      "metadata": {
        "id": "mtxSgZn2ctUN"
      },
      "execution_count": null,
      "outputs": []
    },
    {
      "cell_type": "code",
      "source": [],
      "metadata": {
        "id": "v5fOF8SKdglj"
      },
      "execution_count": null,
      "outputs": []
    }
  ]
}